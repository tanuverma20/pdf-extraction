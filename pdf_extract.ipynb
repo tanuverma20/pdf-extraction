{
  "nbformat": 4,
  "nbformat_minor": 0,
  "metadata": {
    "colab": {
      "provenance": [],
      "authorship_tag": "ABX9TyPr54Nc7xxHL4vUZ+GDr4IE",
      "include_colab_link": true
    },
    "kernelspec": {
      "name": "python3",
      "display_name": "Python 3"
    },
    "language_info": {
      "name": "python"
    }
  },
  "cells": [
    {
      "cell_type": "markdown",
      "metadata": {
        "id": "view-in-github",
        "colab_type": "text"
      },
      "source": [
        "<a href=\"https://colab.research.google.com/github/tanuverma20/pdf-extraction/blob/main/pdf_extract.ipynb\" target=\"_parent\"><img src=\"https://colab.research.google.com/assets/colab-badge.svg\" alt=\"Open In Colab\"/></a>"
      ]
    },
    {
      "cell_type": "code",
      "source": [
        "pip install pdfplumber"
      ],
      "metadata": {
        "colab": {
          "base_uri": "https://localhost:8080/"
        },
        "id": "MK2xXYZuCeqC",
        "outputId": "dbac9f97-357e-4aba-8f4f-8d65bee4c8b4"
      },
      "execution_count": 2,
      "outputs": [
        {
          "output_type": "stream",
          "name": "stdout",
          "text": [
            "Collecting pdfplumber\n",
            "  Downloading pdfplumber-0.11.5-py3-none-any.whl.metadata (42 kB)\n",
            "\u001b[?25l     \u001b[90m━━━━━━━━━━━━━━━━━━━━━━━━━━━━━━━━━━━━━━━━\u001b[0m \u001b[32m0.0/42.5 kB\u001b[0m \u001b[31m?\u001b[0m eta \u001b[36m-:--:--\u001b[0m\r\u001b[2K     \u001b[90m━━━━━━━━━━━━━━━━━━━━━━━━━━━━━━━━━━━━━━━━\u001b[0m \u001b[32m42.5/42.5 kB\u001b[0m \u001b[31m1.5 MB/s\u001b[0m eta \u001b[36m0:00:00\u001b[0m\n",
            "\u001b[?25hCollecting pdfminer.six==20231228 (from pdfplumber)\n",
            "  Downloading pdfminer.six-20231228-py3-none-any.whl.metadata (4.2 kB)\n",
            "Requirement already satisfied: Pillow>=9.1 in /usr/local/lib/python3.11/dist-packages (from pdfplumber) (11.1.0)\n",
            "Collecting pypdfium2>=4.18.0 (from pdfplumber)\n",
            "  Downloading pypdfium2-4.30.1-py3-none-manylinux_2_17_x86_64.manylinux2014_x86_64.whl.metadata (48 kB)\n",
            "\u001b[2K     \u001b[90m━━━━━━━━━━━━━━━━━━━━━━━━━━━━━━━━━━━━━━━━\u001b[0m \u001b[32m48.2/48.2 kB\u001b[0m \u001b[31m1.6 MB/s\u001b[0m eta \u001b[36m0:00:00\u001b[0m\n",
            "\u001b[?25hRequirement already satisfied: charset-normalizer>=2.0.0 in /usr/local/lib/python3.11/dist-packages (from pdfminer.six==20231228->pdfplumber) (3.4.1)\n",
            "Requirement already satisfied: cryptography>=36.0.0 in /usr/local/lib/python3.11/dist-packages (from pdfminer.six==20231228->pdfplumber) (43.0.3)\n",
            "Requirement already satisfied: cffi>=1.12 in /usr/local/lib/python3.11/dist-packages (from cryptography>=36.0.0->pdfminer.six==20231228->pdfplumber) (1.17.1)\n",
            "Requirement already satisfied: pycparser in /usr/local/lib/python3.11/dist-packages (from cffi>=1.12->cryptography>=36.0.0->pdfminer.six==20231228->pdfplumber) (2.22)\n",
            "Downloading pdfplumber-0.11.5-py3-none-any.whl (59 kB)\n",
            "\u001b[2K   \u001b[90m━━━━━━━━━━━━━━━━━━━━━━━━━━━━━━━━━━━━━━━━\u001b[0m \u001b[32m59.5/59.5 kB\u001b[0m \u001b[31m3.5 MB/s\u001b[0m eta \u001b[36m0:00:00\u001b[0m\n",
            "\u001b[?25hDownloading pdfminer.six-20231228-py3-none-any.whl (5.6 MB)\n",
            "\u001b[2K   \u001b[90m━━━━━━━━━━━━━━━━━━━━━━━━━━━━━━━━━━━━━━━━\u001b[0m \u001b[32m5.6/5.6 MB\u001b[0m \u001b[31m44.4 MB/s\u001b[0m eta \u001b[36m0:00:00\u001b[0m\n",
            "\u001b[?25hDownloading pypdfium2-4.30.1-py3-none-manylinux_2_17_x86_64.manylinux2014_x86_64.whl (2.9 MB)\n",
            "\u001b[2K   \u001b[90m━━━━━━━━━━━━━━━━━━━━━━━━━━━━━━━━━━━━━━━━\u001b[0m \u001b[32m2.9/2.9 MB\u001b[0m \u001b[31m59.3 MB/s\u001b[0m eta \u001b[36m0:00:00\u001b[0m\n",
            "\u001b[?25hInstalling collected packages: pypdfium2, pdfminer.six, pdfplumber\n",
            "Successfully installed pdfminer.six-20231228 pdfplumber-0.11.5 pypdfium2-4.30.1\n"
          ]
        }
      ]
    },
    {
      "cell_type": "code",
      "source": [
        "pip install pathlib"
      ],
      "metadata": {
        "colab": {
          "base_uri": "https://localhost:8080/"
        },
        "id": "guVVSG4ADPGI",
        "outputId": "ade2b9ed-ed05-438c-e28b-314fa829a9c5"
      },
      "execution_count": 4,
      "outputs": [
        {
          "output_type": "stream",
          "name": "stdout",
          "text": [
            "Requirement already satisfied: pathlib in /usr/local/lib/python3.11/dist-packages (1.0.1)\n"
          ]
        }
      ]
    },
    {
      "cell_type": "code",
      "execution_count": 6,
      "metadata": {
        "id": "2vTm6bAt_8q4"
      },
      "outputs": [],
      "source": [
        "import pandas as pd\n",
        "import os\n",
        "import pdfplumber\n",
        "import re\n",
        "from pathlib import Path\n",
        "import numpy as np\n",
        "import openpyxl\n",
        "from typing import List, Dict, Any"
      ]
    },
    {
      "cell_type": "code",
      "source": [
        "!mkdir pdf_table_extractor\n",
        "!cd pdf_table_extractor\n",
        "!mkdir input_pdfs\n"
      ],
      "metadata": {
        "id": "veEVUlI_Eo2W"
      },
      "execution_count": 8,
      "outputs": []
    },
    {
      "cell_type": "code",
      "source": [
        "import pandas as pd\n",
        "import pdfplumber\n",
        "\n",
        "with pdfplumber.open(\"test3 (1).pdf\") as pdf:\n",
        "    text = \"\\n\".join(page.extract_text() for page in pdf.pages if page.extract_text())\n",
        "\n",
        "# Assuming text is separated by spaces or tabs\n",
        "lines = text.split(\"\\n\")\n",
        "table_data = [line.split() for line in lines]  # Adjust splitting logic based on format\n",
        "\n",
        "df = pd.DataFrame(table_data)\n",
        "print(df)\n"
      ],
      "metadata": {
        "colab": {
          "base_uri": "https://localhost:8080/"
        },
        "id": "lIGSjJvUM64l",
        "outputId": "fb92d85c-d167-48d6-9cc9-189eb4b681b1"
      },
      "execution_count": 14,
      "outputs": [
        {
          "output_type": "stream",
          "name": "stderr",
          "text": [
            "Exception ignored in: <function ZipFile.__del__ at 0x7e46c83e6160>\n",
            "Traceback (most recent call last):\n",
            "  File \"/usr/lib/python3.11/zipfile.py\", line 1895, in __del__\n",
            "    self.close()\n",
            "  File \"/usr/lib/python3.11/zipfile.py\", line 1912, in close\n",
            "    self.fp.seek(self.start_dir)\n",
            "ValueError: seek of closed file\n"
          ]
        },
        {
          "output_type": "stream",
          "name": "stdout",
          "text": [
            "             0        1              2           3         4         5   \\\n",
            "0          BANK     NAME              :      PUNJAB       AND      SIND   \n",
            "1        BRANCH     NAME              :   JALANDHAR       SME  13:15:47   \n",
            "2       ADDRESS        :            201  INDUSTRIAL      AREA      None   \n",
            "3     JALANDHAR     None           None        None      None      None   \n",
            "4          CITY        :      JALANDHAR    (PUNJAB)      None      None   \n",
            "..          ...      ...            ...         ...       ...       ...   \n",
            "269     contact     home         branch        None      None      None   \n",
            "270  Note:DICGC  insures      principal           &  interest        of   \n",
            "271  admissible   amount             of          Rs         5      lakh   \n",
            "272     subject       to        changes        from      time        to   \n",
            "273     ****END       OF  STATEMENT****        None      None      None   \n",
            "\n",
            "            6                7      8        9       10    11  \n",
            "0         BANK       26-06-2023   None     None    None  None  \n",
            "1         None             None   None     None    None  None  \n",
            "2         None             None   None     None    None  None  \n",
            "3         None             None   None     None    None  None  \n",
            "4         None             None   None     None    None  None  \n",
            "..         ...              ...    ...      ...     ...   ...  \n",
            "269       None             None   None     None    None  None  \n",
            "270   eligible  depositors,upto      a  maximum    None  None  \n",
            "271       None             None   None     None    None  None  \n",
            "272  time**T&C               of  DICGC    shall  apply.  None  \n",
            "273       None             None   None     None    None  None  \n",
            "\n",
            "[274 rows x 12 columns]\n"
          ]
        }
      ]
    },
    {
      "cell_type": "code",
      "source": [
        "df.to_excel(\"test_3.xlsx\")"
      ],
      "metadata": {
        "id": "Jd3dirfJNEIQ"
      },
      "execution_count": 15,
      "outputs": []
    },
    {
      "cell_type": "code",
      "source": [
        "with pdfplumber.open(\"test6 (1).pdf\") as pdf:\n",
        "    text = \"\\n\".join(page.extract_text() for page in pdf.pages if page.extract_text())\n",
        "\n",
        "\n",
        "lines = text.split(\"\\n\")\n",
        "table_data = [line.split() for line in lines]\n",
        "\n",
        "df = pd.DataFrame(table_data)\n",
        "print(df)"
      ],
      "metadata": {
        "colab": {
          "base_uri": "https://localhost:8080/"
        },
        "id": "tzuP_DYRQOXc",
        "outputId": "60670282-9ca7-4245-ff0e-9b7eecf8a597"
      },
      "execution_count": 22,
      "outputs": [
        {
          "output_type": "stream",
          "name": "stdout",
          "text": [
            "                                                     0  \\\n",
            "0    (cid:44)(cid:7)(cid:18)(cid:19)(cid:8)(cid:15)...   \n",
            "1    (cid:4)(cid:5)(cid:6)(cid:7)(cid:8)(cid:9)(cid...   \n",
            "2    (cid:12)(cid:13)(cid:13)(cid:5)(cid:14)(cid:9)...   \n",
            "3    (cid:20)(cid:5)(cid:21)(cid:15)(cid:22)(cid:8)...   \n",
            "4    (cid:4)(cid:14)(cid:19)(cid:19)(cid:18)(cid:9)...   \n",
            "..                                                 ...   \n",
            "914  (cid:30)(cid:19)(cid:8)(cid:9)(cid:21)(cid:61)...   \n",
            "915  (cid:38)(cid:16)(cid:31)(cid:42)(cid:45)(cid:2...   \n",
            "916  (cid:30)(cid:12)(cid:16)(cid:12)(cid:30)(cid:4...   \n",
            "917  (cid:72)(cid:72)(cid:48)(cid:9)(cid:33)(cid:44...   \n",
            "918  (cid:20)(cid:8)(cid:55)(cid:18)(cid:11)(cid:25...   \n",
            "\n",
            "                                                     1     2     3     4  \\\n",
            "0                                                 None  None  None  None   \n",
            "1                                                 None  None  None  None   \n",
            "2                                                 None  None  None  None   \n",
            "3    (cid:20)(cid:5)(cid:21)(cid:15)(cid:22)(cid:8)...  None  None  None   \n",
            "4    (cid:22)(cid:18)(cid:17)(cid:32)(cid:15)(cid:2...  None  None  None   \n",
            "..                                                 ...   ...   ...   ...   \n",
            "914                                               None  None  None  None   \n",
            "915                                               None  None  None  None   \n",
            "916                                               None  None  None  None   \n",
            "917                                               None  None  None  None   \n",
            "918                                               None  None  None  None   \n",
            "\n",
            "        5     6     7     8     9  \n",
            "0    None  None  None  None  None  \n",
            "1    None  None  None  None  None  \n",
            "2    None  None  None  None  None  \n",
            "3    None  None  None  None  None  \n",
            "4    None  None  None  None  None  \n",
            "..    ...   ...   ...   ...   ...  \n",
            "914  None  None  None  None  None  \n",
            "915  None  None  None  None  None  \n",
            "916  None  None  None  None  None  \n",
            "917  None  None  None  None  None  \n",
            "918  None  None  None  None  None  \n",
            "\n",
            "[919 rows x 10 columns]\n"
          ]
        }
      ]
    },
    {
      "cell_type": "code",
      "source": [
        "df.to_excel(\"test_6.xlsx\")"
      ],
      "metadata": {
        "id": "qwzF56HqQXJL"
      },
      "execution_count": 23,
      "outputs": []
    }
  ]
}